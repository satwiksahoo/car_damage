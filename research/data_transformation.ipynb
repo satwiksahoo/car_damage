{
 "cells": [
  {
   "cell_type": "code",
   "execution_count": 19,
   "id": "d070f99d",
   "metadata": {},
   "outputs": [],
   "source": [
    "import pandas as pd\n",
    "import numpy as np\n",
    "from sklearn.model_selection import train_test_split"
   ]
  },
  {
   "cell_type": "code",
   "execution_count": 20,
   "id": "9dd74b7c",
   "metadata": {},
   "outputs": [],
   "source": [
    "\n",
    "df = pd.read_csv('Car details v3.csv')"
   ]
  },
  {
   "cell_type": "code",
   "execution_count": 21,
   "id": "79ed8c72",
   "metadata": {},
   "outputs": [
    {
     "data": {
      "text/plain": [
       "(8128, 13)"
      ]
     },
     "execution_count": 21,
     "metadata": {},
     "output_type": "execute_result"
    }
   ],
   "source": [
    "df.head()\n",
    "\n",
    "df.shape"
   ]
  },
  {
   "cell_type": "code",
   "execution_count": null,
   "id": "099c64db",
   "metadata": {},
   "outputs": [
    {
     "data": {
      "text/plain": [
       "name               0\n",
       "year               0\n",
       "selling_price      0\n",
       "km_driven          0\n",
       "fuel               0\n",
       "seller_type        0\n",
       "transmission       0\n",
       "owner              0\n",
       "mileage          221\n",
       "engine           221\n",
       "max_power        215\n",
       "torque           222\n",
       "seats            221\n",
       "dtype: int64"
      ]
     },
     "execution_count": 22,
     "metadata": {},
     "output_type": "execute_result"
    }
   ],
   "source": [
    "df.isnull().sum()\n",
    "\n",
    "\n"
   ]
  },
  {
   "cell_type": "code",
   "execution_count": 24,
   "id": "0c38ff0b",
   "metadata": {},
   "outputs": [
    {
     "name": "stdout",
     "output_type": "stream",
     "text": [
      "<class 'pandas.core.frame.DataFrame'>\n",
      "RangeIndex: 8128 entries, 0 to 8127\n",
      "Data columns (total 13 columns):\n",
      " #   Column         Non-Null Count  Dtype  \n",
      "---  ------         --------------  -----  \n",
      " 0   name           8128 non-null   object \n",
      " 1   year           8128 non-null   int64  \n",
      " 2   selling_price  8128 non-null   int64  \n",
      " 3   km_driven      8128 non-null   int64  \n",
      " 4   fuel           8128 non-null   object \n",
      " 5   seller_type    8128 non-null   object \n",
      " 6   transmission   8128 non-null   object \n",
      " 7   owner          8128 non-null   object \n",
      " 8   mileage        7907 non-null   object \n",
      " 9   engine         7907 non-null   object \n",
      " 10  max_power      7913 non-null   object \n",
      " 11  torque         7906 non-null   object \n",
      " 12  seats          7907 non-null   float64\n",
      "dtypes: float64(1), int64(3), object(9)\n",
      "memory usage: 825.6+ KB\n"
     ]
    }
   ],
   "source": [
    "df.info()"
   ]
  },
  {
   "cell_type": "code",
   "execution_count": null,
   "id": "17969f19",
   "metadata": {},
   "outputs": [],
   "source": []
  },
  {
   "cell_type": "code",
   "execution_count": 32,
   "id": "3e0dd9b6",
   "metadata": {},
   "outputs": [
    {
     "data": {
      "text/html": [
       "<div>\n",
       "<style scoped>\n",
       "    .dataframe tbody tr th:only-of-type {\n",
       "        vertical-align: middle;\n",
       "    }\n",
       "\n",
       "    .dataframe tbody tr th {\n",
       "        vertical-align: top;\n",
       "    }\n",
       "\n",
       "    .dataframe thead th {\n",
       "        text-align: right;\n",
       "    }\n",
       "</style>\n",
       "<table border=\"1\" class=\"dataframe\">\n",
       "  <thead>\n",
       "    <tr style=\"text-align: right;\">\n",
       "      <th></th>\n",
       "      <th>year</th>\n",
       "      <th>selling_price</th>\n",
       "      <th>km_driven</th>\n",
       "      <th>seats</th>\n",
       "    </tr>\n",
       "  </thead>\n",
       "  <tbody>\n",
       "    <tr>\n",
       "      <th>count</th>\n",
       "      <td>8128</td>\n",
       "      <td>8128</td>\n",
       "      <td>8128</td>\n",
       "      <td>7907</td>\n",
       "    </tr>\n",
       "    <tr>\n",
       "      <th>mean</th>\n",
       "      <td>2013</td>\n",
       "      <td>638271</td>\n",
       "      <td>69819</td>\n",
       "      <td>5</td>\n",
       "    </tr>\n",
       "    <tr>\n",
       "      <th>std</th>\n",
       "      <td>4</td>\n",
       "      <td>806253</td>\n",
       "      <td>56550</td>\n",
       "      <td>0</td>\n",
       "    </tr>\n",
       "    <tr>\n",
       "      <th>min</th>\n",
       "      <td>1983</td>\n",
       "      <td>29999</td>\n",
       "      <td>1</td>\n",
       "      <td>2</td>\n",
       "    </tr>\n",
       "    <tr>\n",
       "      <th>25%</th>\n",
       "      <td>2011</td>\n",
       "      <td>254999</td>\n",
       "      <td>35000</td>\n",
       "      <td>5</td>\n",
       "    </tr>\n",
       "    <tr>\n",
       "      <th>50%</th>\n",
       "      <td>2015</td>\n",
       "      <td>450000</td>\n",
       "      <td>60000</td>\n",
       "      <td>5</td>\n",
       "    </tr>\n",
       "    <tr>\n",
       "      <th>75%</th>\n",
       "      <td>2017</td>\n",
       "      <td>675000</td>\n",
       "      <td>98000</td>\n",
       "      <td>5</td>\n",
       "    </tr>\n",
       "    <tr>\n",
       "      <th>max</th>\n",
       "      <td>2020</td>\n",
       "      <td>10000000</td>\n",
       "      <td>2360457</td>\n",
       "      <td>14</td>\n",
       "    </tr>\n",
       "  </tbody>\n",
       "</table>\n",
       "</div>"
      ],
      "text/plain": [
       "       year  selling_price  km_driven  seats\n",
       "count  8128           8128       8128   7907\n",
       "mean   2013         638271      69819      5\n",
       "std       4         806253      56550      0\n",
       "min    1983          29999          1      2\n",
       "25%    2011         254999      35000      5\n",
       "50%    2015         450000      60000      5\n",
       "75%    2017         675000      98000      5\n",
       "max    2020       10000000    2360457     14"
      ]
     },
     "execution_count": 32,
     "metadata": {},
     "output_type": "execute_result"
    }
   ],
   "source": [
    "df.describe().astype(int)"
   ]
  },
  {
   "cell_type": "code",
   "execution_count": 33,
   "id": "17aa8131",
   "metadata": {},
   "outputs": [
    {
     "name": "stdout",
     "output_type": "stream",
     "text": [
      "mileage      float64\n",
      "engine       float64\n",
      "max_power    float64\n",
      "torque       float64\n",
      "dtype: object\n"
     ]
    }
   ],
   "source": [
    "df['mileage'] = df['mileage'].str.extract(r'([\\d.]+)').astype(float)\n",
    "\n",
    "# 2. Clean and convert 'engine' (e.g., \"1248 CC\" → 1248.0)\n",
    "df['engine'] = df['engine'].str.extract(r'([\\d.]+)').astype(float)\n",
    "\n",
    "# 3. Clean and convert 'max_power' (e.g., \"74 bhp\" → 74.0)\n",
    "df['max_power'] = df['max_power'].str.extract(r'([\\d.]+)').astype(float)\n",
    "\n",
    "# 4. Optional: Extract numeric torque value (e.g., \"190Nm@ 2000rpm\" → 190.0)\n",
    "df['torque'] = df['torque'].str.extract(r'([\\d.]+)').astype(float)\n",
    "\n",
    "# Confirm conversion\n",
    "print(df[['mileage', 'engine', 'max_power', 'torque']].dtypes)"
   ]
  },
  {
   "cell_type": "code",
   "execution_count": 34,
   "id": "621d3a0e",
   "metadata": {},
   "outputs": [
    {
     "data": {
      "text/html": [
       "<div>\n",
       "<style scoped>\n",
       "    .dataframe tbody tr th:only-of-type {\n",
       "        vertical-align: middle;\n",
       "    }\n",
       "\n",
       "    .dataframe tbody tr th {\n",
       "        vertical-align: top;\n",
       "    }\n",
       "\n",
       "    .dataframe thead th {\n",
       "        text-align: right;\n",
       "    }\n",
       "</style>\n",
       "<table border=\"1\" class=\"dataframe\">\n",
       "  <thead>\n",
       "    <tr style=\"text-align: right;\">\n",
       "      <th></th>\n",
       "      <th>name</th>\n",
       "      <th>year</th>\n",
       "      <th>selling_price</th>\n",
       "      <th>km_driven</th>\n",
       "      <th>fuel</th>\n",
       "      <th>seller_type</th>\n",
       "      <th>transmission</th>\n",
       "      <th>owner</th>\n",
       "      <th>mileage</th>\n",
       "      <th>engine</th>\n",
       "      <th>max_power</th>\n",
       "      <th>torque</th>\n",
       "      <th>seats</th>\n",
       "    </tr>\n",
       "  </thead>\n",
       "  <tbody>\n",
       "    <tr>\n",
       "      <th>0</th>\n",
       "      <td>Maruti Swift Dzire VDI</td>\n",
       "      <td>2014</td>\n",
       "      <td>450000</td>\n",
       "      <td>145500</td>\n",
       "      <td>Diesel</td>\n",
       "      <td>Individual</td>\n",
       "      <td>Manual</td>\n",
       "      <td>First Owner</td>\n",
       "      <td>23.40</td>\n",
       "      <td>1248.0</td>\n",
       "      <td>74.00</td>\n",
       "      <td>190.0</td>\n",
       "      <td>5.0</td>\n",
       "    </tr>\n",
       "    <tr>\n",
       "      <th>1</th>\n",
       "      <td>Skoda Rapid 1.5 TDI Ambition</td>\n",
       "      <td>2014</td>\n",
       "      <td>370000</td>\n",
       "      <td>120000</td>\n",
       "      <td>Diesel</td>\n",
       "      <td>Individual</td>\n",
       "      <td>Manual</td>\n",
       "      <td>Second Owner</td>\n",
       "      <td>21.14</td>\n",
       "      <td>1498.0</td>\n",
       "      <td>103.52</td>\n",
       "      <td>250.0</td>\n",
       "      <td>5.0</td>\n",
       "    </tr>\n",
       "    <tr>\n",
       "      <th>2</th>\n",
       "      <td>Honda City 2017-2020 EXi</td>\n",
       "      <td>2006</td>\n",
       "      <td>158000</td>\n",
       "      <td>140000</td>\n",
       "      <td>Petrol</td>\n",
       "      <td>Individual</td>\n",
       "      <td>Manual</td>\n",
       "      <td>Third Owner</td>\n",
       "      <td>17.70</td>\n",
       "      <td>1497.0</td>\n",
       "      <td>78.00</td>\n",
       "      <td>12.7</td>\n",
       "      <td>5.0</td>\n",
       "    </tr>\n",
       "    <tr>\n",
       "      <th>3</th>\n",
       "      <td>Hyundai i20 Sportz Diesel</td>\n",
       "      <td>2010</td>\n",
       "      <td>225000</td>\n",
       "      <td>127000</td>\n",
       "      <td>Diesel</td>\n",
       "      <td>Individual</td>\n",
       "      <td>Manual</td>\n",
       "      <td>First Owner</td>\n",
       "      <td>23.00</td>\n",
       "      <td>1396.0</td>\n",
       "      <td>90.00</td>\n",
       "      <td>22.4</td>\n",
       "      <td>5.0</td>\n",
       "    </tr>\n",
       "    <tr>\n",
       "      <th>4</th>\n",
       "      <td>Maruti Swift VXI BSIII</td>\n",
       "      <td>2007</td>\n",
       "      <td>130000</td>\n",
       "      <td>120000</td>\n",
       "      <td>Petrol</td>\n",
       "      <td>Individual</td>\n",
       "      <td>Manual</td>\n",
       "      <td>First Owner</td>\n",
       "      <td>16.10</td>\n",
       "      <td>1298.0</td>\n",
       "      <td>88.20</td>\n",
       "      <td>11.5</td>\n",
       "      <td>5.0</td>\n",
       "    </tr>\n",
       "  </tbody>\n",
       "</table>\n",
       "</div>"
      ],
      "text/plain": [
       "                           name  year  selling_price  km_driven    fuel  \\\n",
       "0        Maruti Swift Dzire VDI  2014         450000     145500  Diesel   \n",
       "1  Skoda Rapid 1.5 TDI Ambition  2014         370000     120000  Diesel   \n",
       "2      Honda City 2017-2020 EXi  2006         158000     140000  Petrol   \n",
       "3     Hyundai i20 Sportz Diesel  2010         225000     127000  Diesel   \n",
       "4        Maruti Swift VXI BSIII  2007         130000     120000  Petrol   \n",
       "\n",
       "  seller_type transmission         owner  mileage  engine  max_power  torque  \\\n",
       "0  Individual       Manual   First Owner    23.40  1248.0      74.00   190.0   \n",
       "1  Individual       Manual  Second Owner    21.14  1498.0     103.52   250.0   \n",
       "2  Individual       Manual   Third Owner    17.70  1497.0      78.00    12.7   \n",
       "3  Individual       Manual   First Owner    23.00  1396.0      90.00    22.4   \n",
       "4  Individual       Manual   First Owner    16.10  1298.0      88.20    11.5   \n",
       "\n",
       "   seats  \n",
       "0    5.0  \n",
       "1    5.0  \n",
       "2    5.0  \n",
       "3    5.0  \n",
       "4    5.0  "
      ]
     },
     "execution_count": 34,
     "metadata": {},
     "output_type": "execute_result"
    }
   ],
   "source": [
    "df.head()"
   ]
  },
  {
   "cell_type": "code",
   "execution_count": 38,
   "id": "1e766dc0",
   "metadata": {},
   "outputs": [
    {
     "data": {
      "text/plain": [
       "2058"
      ]
     },
     "execution_count": 38,
     "metadata": {},
     "output_type": "execute_result"
    }
   ],
   "source": [
    "df['name'].unique().size"
   ]
  },
  {
   "cell_type": "code",
   "execution_count": 41,
   "id": "4185ba52",
   "metadata": {},
   "outputs": [
    {
     "data": {
      "text/html": [
       "<div>\n",
       "<style scoped>\n",
       "    .dataframe tbody tr th:only-of-type {\n",
       "        vertical-align: middle;\n",
       "    }\n",
       "\n",
       "    .dataframe tbody tr th {\n",
       "        vertical-align: top;\n",
       "    }\n",
       "\n",
       "    .dataframe thead th {\n",
       "        text-align: right;\n",
       "    }\n",
       "</style>\n",
       "<table border=\"1\" class=\"dataframe\">\n",
       "  <thead>\n",
       "    <tr style=\"text-align: right;\">\n",
       "      <th></th>\n",
       "      <th>year</th>\n",
       "      <th>selling_price</th>\n",
       "      <th>km_driven</th>\n",
       "      <th>mileage</th>\n",
       "      <th>engine</th>\n",
       "      <th>max_power</th>\n",
       "      <th>torque</th>\n",
       "      <th>seats</th>\n",
       "    </tr>\n",
       "  </thead>\n",
       "  <tbody>\n",
       "    <tr>\n",
       "      <th>count</th>\n",
       "      <td>8128</td>\n",
       "      <td>8128</td>\n",
       "      <td>8128</td>\n",
       "      <td>7907</td>\n",
       "      <td>7907</td>\n",
       "      <td>7912</td>\n",
       "      <td>7906</td>\n",
       "      <td>7907</td>\n",
       "    </tr>\n",
       "    <tr>\n",
       "      <th>mean</th>\n",
       "      <td>2013</td>\n",
       "      <td>638271</td>\n",
       "      <td>69819</td>\n",
       "      <td>19</td>\n",
       "      <td>1458</td>\n",
       "      <td>91</td>\n",
       "      <td>168</td>\n",
       "      <td>5</td>\n",
       "    </tr>\n",
       "    <tr>\n",
       "      <th>std</th>\n",
       "      <td>4</td>\n",
       "      <td>806253</td>\n",
       "      <td>56550</td>\n",
       "      <td>4</td>\n",
       "      <td>503</td>\n",
       "      <td>35</td>\n",
       "      <td>97</td>\n",
       "      <td>0</td>\n",
       "    </tr>\n",
       "    <tr>\n",
       "      <th>min</th>\n",
       "      <td>1983</td>\n",
       "      <td>29999</td>\n",
       "      <td>1</td>\n",
       "      <td>0</td>\n",
       "      <td>624</td>\n",
       "      <td>0</td>\n",
       "      <td>4</td>\n",
       "      <td>2</td>\n",
       "    </tr>\n",
       "    <tr>\n",
       "      <th>25%</th>\n",
       "      <td>2011</td>\n",
       "      <td>254999</td>\n",
       "      <td>35000</td>\n",
       "      <td>16</td>\n",
       "      <td>1197</td>\n",
       "      <td>68</td>\n",
       "      <td>101</td>\n",
       "      <td>5</td>\n",
       "    </tr>\n",
       "    <tr>\n",
       "      <th>50%</th>\n",
       "      <td>2015</td>\n",
       "      <td>450000</td>\n",
       "      <td>60000</td>\n",
       "      <td>19</td>\n",
       "      <td>1248</td>\n",
       "      <td>82</td>\n",
       "      <td>154</td>\n",
       "      <td>5</td>\n",
       "    </tr>\n",
       "    <tr>\n",
       "      <th>75%</th>\n",
       "      <td>2017</td>\n",
       "      <td>675000</td>\n",
       "      <td>98000</td>\n",
       "      <td>22</td>\n",
       "      <td>1582</td>\n",
       "      <td>102</td>\n",
       "      <td>202</td>\n",
       "      <td>5</td>\n",
       "    </tr>\n",
       "    <tr>\n",
       "      <th>max</th>\n",
       "      <td>2020</td>\n",
       "      <td>10000000</td>\n",
       "      <td>2360457</td>\n",
       "      <td>42</td>\n",
       "      <td>3604</td>\n",
       "      <td>400</td>\n",
       "      <td>789</td>\n",
       "      <td>14</td>\n",
       "    </tr>\n",
       "  </tbody>\n",
       "</table>\n",
       "</div>"
      ],
      "text/plain": [
       "       year  selling_price  km_driven  mileage  engine  max_power  torque  \\\n",
       "count  8128           8128       8128     7907    7907       7912    7906   \n",
       "mean   2013         638271      69819       19    1458         91     168   \n",
       "std       4         806253      56550        4     503         35      97   \n",
       "min    1983          29999          1        0     624          0       4   \n",
       "25%    2011         254999      35000       16    1197         68     101   \n",
       "50%    2015         450000      60000       19    1248         82     154   \n",
       "75%    2017         675000      98000       22    1582        102     202   \n",
       "max    2020       10000000    2360457       42    3604        400     789   \n",
       "\n",
       "       seats  \n",
       "count   7907  \n",
       "mean       5  \n",
       "std        0  \n",
       "min        2  \n",
       "25%        5  \n",
       "50%        5  \n",
       "75%        5  \n",
       "max       14  "
      ]
     },
     "execution_count": 41,
     "metadata": {},
     "output_type": "execute_result"
    }
   ],
   "source": [
    "df.describe().astype(int)"
   ]
  },
  {
   "cell_type": "code",
   "execution_count": 43,
   "id": "29a7bd70",
   "metadata": {},
   "outputs": [
    {
     "data": {
      "text/plain": [
       "name               0\n",
       "year               0\n",
       "selling_price      0\n",
       "km_driven          0\n",
       "fuel               0\n",
       "seller_type        0\n",
       "transmission       0\n",
       "owner              0\n",
       "mileage          221\n",
       "engine           221\n",
       "max_power        216\n",
       "torque           222\n",
       "seats            221\n",
       "dtype: int64"
      ]
     },
     "execution_count": 43,
     "metadata": {},
     "output_type": "execute_result"
    }
   ],
   "source": [
    "df.isnull().sum()"
   ]
  },
  {
   "cell_type": "code",
   "execution_count": 44,
   "id": "a99649ba",
   "metadata": {},
   "outputs": [
    {
     "name": "stderr",
     "output_type": "stream",
     "text": [
      "/var/folders/tj/h7d58dsn3tv22_3h4nxcdj6w0000gn/T/ipykernel_36211/3305077169.py:1: FutureWarning: A value is trying to be set on a copy of a DataFrame or Series through chained assignment using an inplace method.\n",
      "The behavior will change in pandas 3.0. This inplace method will never work because the intermediate object on which we are setting values always behaves as a copy.\n",
      "\n",
      "For example, when doing 'df[col].method(value, inplace=True)', try using 'df.method({col: value}, inplace=True)' or df[col] = df[col].method(value) instead, to perform the operation inplace on the original object.\n",
      "\n",
      "\n",
      "  df['mileage'].fillna(df['mileage'].median(), inplace=True)\n",
      "/var/folders/tj/h7d58dsn3tv22_3h4nxcdj6w0000gn/T/ipykernel_36211/3305077169.py:2: FutureWarning: A value is trying to be set on a copy of a DataFrame or Series through chained assignment using an inplace method.\n",
      "The behavior will change in pandas 3.0. This inplace method will never work because the intermediate object on which we are setting values always behaves as a copy.\n",
      "\n",
      "For example, when doing 'df[col].method(value, inplace=True)', try using 'df.method({col: value}, inplace=True)' or df[col] = df[col].method(value) instead, to perform the operation inplace on the original object.\n",
      "\n",
      "\n",
      "  df['engine'].fillna(df['engine'].median(), inplace=True)\n",
      "/var/folders/tj/h7d58dsn3tv22_3h4nxcdj6w0000gn/T/ipykernel_36211/3305077169.py:3: FutureWarning: A value is trying to be set on a copy of a DataFrame or Series through chained assignment using an inplace method.\n",
      "The behavior will change in pandas 3.0. This inplace method will never work because the intermediate object on which we are setting values always behaves as a copy.\n",
      "\n",
      "For example, when doing 'df[col].method(value, inplace=True)', try using 'df.method({col: value}, inplace=True)' or df[col] = df[col].method(value) instead, to perform the operation inplace on the original object.\n",
      "\n",
      "\n",
      "  df['max_power'].fillna(df['max_power'].median(), inplace=True)\n",
      "/var/folders/tj/h7d58dsn3tv22_3h4nxcdj6w0000gn/T/ipykernel_36211/3305077169.py:4: FutureWarning: A value is trying to be set on a copy of a DataFrame or Series through chained assignment using an inplace method.\n",
      "The behavior will change in pandas 3.0. This inplace method will never work because the intermediate object on which we are setting values always behaves as a copy.\n",
      "\n",
      "For example, when doing 'df[col].method(value, inplace=True)', try using 'df.method({col: value}, inplace=True)' or df[col] = df[col].method(value) instead, to perform the operation inplace on the original object.\n",
      "\n",
      "\n",
      "  df['torque'].fillna(df['torque'].median(), inplace=True)\n",
      "/var/folders/tj/h7d58dsn3tv22_3h4nxcdj6w0000gn/T/ipykernel_36211/3305077169.py:5: FutureWarning: A value is trying to be set on a copy of a DataFrame or Series through chained assignment using an inplace method.\n",
      "The behavior will change in pandas 3.0. This inplace method will never work because the intermediate object on which we are setting values always behaves as a copy.\n",
      "\n",
      "For example, when doing 'df[col].method(value, inplace=True)', try using 'df.method({col: value}, inplace=True)' or df[col] = df[col].method(value) instead, to perform the operation inplace on the original object.\n",
      "\n",
      "\n",
      "  df['seats'].fillna(df['seats'].median(), inplace=True)\n"
     ]
    }
   ],
   "source": [
    "df['mileage'].fillna(df['mileage'].median(), inplace=True)\n",
    "df['engine'].fillna(df['engine'].median(), inplace=True)\n",
    "df['max_power'].fillna(df['max_power'].median(), inplace=True)\n",
    "df['torque'].fillna(df['torque'].median(), inplace=True)\n",
    "df['seats'].fillna(df['seats'].median(), inplace=True)\n"
   ]
  },
  {
   "cell_type": "code",
   "execution_count": 45,
   "id": "4113451e",
   "metadata": {},
   "outputs": [
    {
     "data": {
      "text/plain": [
       "name             0\n",
       "year             0\n",
       "selling_price    0\n",
       "km_driven        0\n",
       "fuel             0\n",
       "seller_type      0\n",
       "transmission     0\n",
       "owner            0\n",
       "mileage          0\n",
       "engine           0\n",
       "max_power        0\n",
       "torque           0\n",
       "seats            0\n",
       "dtype: int64"
      ]
     },
     "execution_count": 45,
     "metadata": {},
     "output_type": "execute_result"
    }
   ],
   "source": [
    "df.isnull().sum()"
   ]
  },
  {
   "cell_type": "code",
   "execution_count": 51,
   "id": "78722c55",
   "metadata": {},
   "outputs": [],
   "source": [
    "X = df.drop(['selling_price'] , axis = 1)\n",
    "Y = df['selling_price']\n",
    "\n",
    "x_train ,x_test , y_train , y_test =  train_test_split(X,Y , test_size=0.3 , random_state=42)"
   ]
  },
  {
   "cell_type": "code",
   "execution_count": 50,
   "id": "2797f38e",
   "metadata": {},
   "outputs": [
    {
     "name": "stdout",
     "output_type": "stream",
     "text": [
      "<class 'pandas.core.frame.DataFrame'>\n",
      "RangeIndex: 8128 entries, 0 to 8127\n",
      "Data columns (total 12 columns):\n",
      " #   Column        Non-Null Count  Dtype  \n",
      "---  ------        --------------  -----  \n",
      " 0   name          8128 non-null   object \n",
      " 1   year          8128 non-null   int64  \n",
      " 2   km_driven     8128 non-null   int64  \n",
      " 3   fuel          8128 non-null   object \n",
      " 4   seller_type   8128 non-null   object \n",
      " 5   transmission  8128 non-null   object \n",
      " 6   owner         8128 non-null   object \n",
      " 7   mileage       8128 non-null   float64\n",
      " 8   engine        8128 non-null   float64\n",
      " 9   max_power     8128 non-null   float64\n",
      " 10  torque        8128 non-null   float64\n",
      " 11  seats         8128 non-null   float64\n",
      "dtypes: float64(5), int64(2), object(5)\n",
      "memory usage: 762.1+ KB\n"
     ]
    }
   ],
   "source": [
    "X.info()"
   ]
  },
  {
   "cell_type": "code",
   "execution_count": 53,
   "id": "d1b06961",
   "metadata": {},
   "outputs": [],
   "source": [
    "\n",
    "categorical_col  = ['fuel','seller_type', 'transmission', 'owner', 'name']\n",
    "numerical_col = [col for col in X.columns if col not in categorical_col]\n",
    "\n",
    "\n",
    "x_train_encoded = pd.get_dummies(x_train, columns=categorical_col, drop_first=True)\n",
    "x_test_encoded =  pd.get_dummies(x_test , columns=categorical_col, drop_first=True)\n",
    "\n",
    "\n"
   ]
  },
  {
   "cell_type": "code",
   "execution_count": 59,
   "id": "680a4699",
   "metadata": {},
   "outputs": [
    {
     "name": "stdout",
     "output_type": "stream",
     "text": [
      "0.9581234529083155\n"
     ]
    }
   ],
   "source": [
    "from sklearn.preprocessing import OneHotEncoder\n",
    "from sklearn.linear_model import LinearRegression , LogisticRegression\n",
    "from sklearn.ensemble import RandomForestRegressor\n",
    "\n",
    "\n",
    "x_test_encoded = x_test_encoded.reindex(columns=x_train_encoded.columns, fill_value=0)\n",
    "\n",
    "\n",
    "rf_model = RandomForestRegressor()\n",
    "rf_model.fit(x_train_encoded , y_train)\n",
    "\n",
    "prediction = rf_model.predict(x_test_encoded)\n",
    "\n",
    "print(rf_model.score(x_test_encoded, y_test))"
   ]
  },
  {
   "cell_type": "code",
   "execution_count": null,
   "id": "23055bfc",
   "metadata": {},
   "outputs": [
    {
     "name": "stderr",
     "output_type": "stream",
     "text": [
      "/var/folders/tj/h7d58dsn3tv22_3h4nxcdj6w0000gn/T/ipykernel_36211/1797539849.py:28: FutureWarning: A value is trying to be set on a copy of a DataFrame or Series through chained assignment using an inplace method.\n",
      "The behavior will change in pandas 3.0. This inplace method will never work because the intermediate object on which we are setting values always behaves as a copy.\n",
      "\n",
      "For example, when doing 'df[col].method(value, inplace=True)', try using 'df.method({col: value}, inplace=True)' or df[col] = df[col].method(value) instead, to perform the operation inplace on the original object.\n",
      "\n",
      "\n",
      "  df['mileage'].fillna(df['mileage'].median(), inplace=True)\n",
      "/var/folders/tj/h7d58dsn3tv22_3h4nxcdj6w0000gn/T/ipykernel_36211/1797539849.py:29: FutureWarning: A value is trying to be set on a copy of a DataFrame or Series through chained assignment using an inplace method.\n",
      "The behavior will change in pandas 3.0. This inplace method will never work because the intermediate object on which we are setting values always behaves as a copy.\n",
      "\n",
      "For example, when doing 'df[col].method(value, inplace=True)', try using 'df.method({col: value}, inplace=True)' or df[col] = df[col].method(value) instead, to perform the operation inplace on the original object.\n",
      "\n",
      "\n",
      "  df['engine'].fillna(df['engine'].median(), inplace=True)\n",
      "/var/folders/tj/h7d58dsn3tv22_3h4nxcdj6w0000gn/T/ipykernel_36211/1797539849.py:30: FutureWarning: A value is trying to be set on a copy of a DataFrame or Series through chained assignment using an inplace method.\n",
      "The behavior will change in pandas 3.0. This inplace method will never work because the intermediate object on which we are setting values always behaves as a copy.\n",
      "\n",
      "For example, when doing 'df[col].method(value, inplace=True)', try using 'df.method({col: value}, inplace=True)' or df[col] = df[col].method(value) instead, to perform the operation inplace on the original object.\n",
      "\n",
      "\n",
      "  df['max_power'].fillna(df['max_power'].median(), inplace=True)\n",
      "/var/folders/tj/h7d58dsn3tv22_3h4nxcdj6w0000gn/T/ipykernel_36211/1797539849.py:31: FutureWarning: A value is trying to be set on a copy of a DataFrame or Series through chained assignment using an inplace method.\n",
      "The behavior will change in pandas 3.0. This inplace method will never work because the intermediate object on which we are setting values always behaves as a copy.\n",
      "\n",
      "For example, when doing 'df[col].method(value, inplace=True)', try using 'df.method({col: value}, inplace=True)' or df[col] = df[col].method(value) instead, to perform the operation inplace on the original object.\n",
      "\n",
      "\n",
      "  df['torque'].fillna(df['torque'].median(), inplace=True)\n",
      "/var/folders/tj/h7d58dsn3tv22_3h4nxcdj6w0000gn/T/ipykernel_36211/1797539849.py:32: FutureWarning: A value is trying to be set on a copy of a DataFrame or Series through chained assignment using an inplace method.\n",
      "The behavior will change in pandas 3.0. This inplace method will never work because the intermediate object on which we are setting values always behaves as a copy.\n",
      "\n",
      "For example, when doing 'df[col].method(value, inplace=True)', try using 'df.method({col: value}, inplace=True)' or df[col] = df[col].method(value) instead, to perform the operation inplace on the original object.\n",
      "\n",
      "\n",
      "  df['seats'].fillna(df['seats'].median(), inplace=True)\n"
     ]
    },
    {
     "name": "stdout",
     "output_type": "stream",
     "text": [
      "0.9599743451066534\n"
     ]
    }
   ],
   "source": [
    "import pandas as pd\n",
    "import numpy as np\n",
    "from sklearn.model_selection import train_test_split\n",
    "from sklearn.preprocessing import OneHotEncoder\n",
    "from sklearn.linear_model import LinearRegression , LogisticRegression\n",
    "from sklearn.ensemble import RandomForestRegressor\n",
    "import xgboost\n",
    "from xgboost import XGBRegressor\n",
    "\n",
    "df = pd.read_csv('Car details v3.csv')\n",
    "\n",
    "\n",
    "#-------------------------------------------XXXXXXXXXXXXXXX------------------------------------#\n",
    "# MODEL TRANSFORMATION , EDA\n",
    "\n",
    "\n",
    "df['mileage'] = df['mileage'].str.extract(r'([\\d.]+)').astype(float)\n",
    "\n",
    "# 2. Clean and convert 'engine' (e.g., \"1248 CC\" → 1248.0)\n",
    "df['engine'] = df['engine'].str.extract(r'([\\d.]+)').astype(float)\n",
    "\n",
    "# 3. Clean and convert 'max_power' (e.g., \"74 bhp\" → 74.0)\n",
    "df['max_power'] = df['max_power'].str.extract(r'([\\d.]+)').astype(float)\n",
    "\n",
    "# 4. Optional: Extract numeric torque value (e.g., \"190Nm@ 2000rpm\" → 190.0)\n",
    "df['torque'] = df['torque'].str.extract(r'([\\d.]+)').astype(float)\n",
    "\n",
    "\n",
    "\n",
    "\n",
    "\n",
    "df['mileage'].fillna(df['mileage'].median(), inplace=True)\n",
    "df['engine'].fillna(df['engine'].median(), inplace=True)\n",
    "df['max_power'].fillna(df['max_power'].median(), inplace=True)\n",
    "df['torque'].fillna(df['torque'].median(), inplace=True)\n",
    "df['seats'].fillna(df['seats'].median(), inplace=True)\n",
    "\n",
    "\n",
    "\n",
    "X = df.drop(['selling_price'] , axis = 1)\n",
    "Y = df['selling_price']\n",
    "\n",
    "x_train ,x_test , y_train , y_test =  train_test_split(X,Y , test_size=0.3 , random_state=42)\n",
    "#-------------------------------------------XXXXXXXXXXXXXXX------------------------------------#\n",
    "# MODEL TRAINER - \n",
    "\n",
    "categorical_col  = ['fuel','seller_type', 'transmission', 'owner', 'name']\n",
    "numerical_col = [col for col in X.columns if col not in categorical_col]\n",
    "\n",
    "\n",
    "x_train_encoded = pd.get_dummies(x_train, columns=categorical_col, drop_first=True)\n",
    "x_test_encoded =  pd.get_dummies(x_test , columns=categorical_col, drop_first=True)\n",
    "\n",
    "\n",
    "\n",
    "\n",
    "\n",
    "x_test_encoded = x_test_encoded.reindex(columns=x_train_encoded.columns, fill_value=0)\n",
    "\n",
    "\n",
    "rf_model = RandomForestRegressor()\n",
    "rf_model.fit(x_train_encoded , y_train)\n",
    "\n",
    "\n",
    "prediction = rf_model.predict(x_test_encoded)\n",
    "\n",
    "print(rf_model.score(x_test_encoded, y_test))\n",
    "\n",
    "\n"
   ]
  },
  {
   "cell_type": "code",
   "execution_count": 73,
   "id": "a59461ca",
   "metadata": {},
   "outputs": [
    {
     "name": "stdout",
     "output_type": "stream",
     "text": [
      "R² Score: 0.9599743451066534\n",
      "MAE: 68953.91237052303\n",
      "RMSE: 166048.5226360161\n"
     ]
    }
   ],
   "source": [
    "from sklearn.metrics import mean_squared_error, mean_absolute_error, r2_score\n",
    "import numpy as np\n",
    "\n",
    "print(\"R² Score:\", r2_score(y_test, prediction))\n",
    "print(\"MAE:\", mean_absolute_error(y_test, prediction))\n",
    "print(\"RMSE:\", np.sqrt(mean_squared_error(y_test, prediction)))"
   ]
  },
  {
   "cell_type": "code",
   "execution_count": 74,
   "id": "33a69e14",
   "metadata": {},
   "outputs": [
    {
     "data": {
      "image/png": "[encoded data removed]",
      "text/plain": [
       "<Figure size 640x480 with 1 Axes>"
      ]
     },
     "metadata": {},
     "output_type": "display_data"
    }
   ],
   "source": [
    "import matplotlib.pyplot as plt\n",
    "\n",
    "plt.scatter(y_test, prediction, alpha=0.5, color='teal')\n",
    "plt.xlabel(\"Actual Selling Price\")\n",
    "plt.ylabel(\"Predicted Selling Price\")\n",
    "plt.title(\"Actual vs Predicted Car Prices\")\n",
    "plt.plot([y_test.min(), y_test.max()], [y_test.min(), y_test.max()], 'r--')\n",
    "plt.show()\n"
   ]
  },
  {
   "cell_type": "code",
   "execution_count": null,
   "id": "ec251c07",
   "metadata": {},
   "outputs": [],
   "source": []
  }
 ],
 "metadata": {
  "kernelspec": {
   "display_name": "Python 3",
   "language": "python",
   "name": "python3"
  },
  "language_info": {
   "codemirror_mode": {
    "name": "ipython",
    "version": 3
   },
   "file_extension": ".py",
   "mimetype": "text/x-python",
   "name": "python",
   "nbconvert_exporter": "python",
   "pygments_lexer": "ipython3",
   "version": "3.10.0"
  }
 },
 "nbformat": 4,
 "nbformat_minor": 5
}
